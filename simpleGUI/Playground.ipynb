{
 "cells": [
  {
   "cell_type": "code",
   "execution_count": 3,
   "metadata": {},
   "outputs": [
    {
     "name": "stdout",
     "output_type": "stream",
     "text": [
      "[GENERAL]\n",
      "\n",
      "path=\n",
      "\n",
      "command=ipython\n",
      "\n",
      "title=Bluesky Plan Wrapper\n",
      "\n",
      "\n",
      "\n",
      "[PYTHON]\n",
      "\n",
      "version=3.8.5\n",
      "\n",
      "\n",
      "\n",
      "[LAYOUT]\n",
      "\n",
      "font_button=12\n",
      "\n",
      "font_title=15\n",
      "\n",
      "window_width=800\n",
      "\n",
      "window_height=600\n"
     ]
    }
   ],
   "source": [
    "import os\n",
    "\n",
    "path = os.path.join(os.getcwd(), 'etc', 'simpleGUI.ini')\n",
    "with open(path) as file:\n",
    "    for line in file.readlines():\n",
    "        print(line)"
   ]
  },
  {
   "cell_type": "code",
   "execution_count": null,
   "metadata": {},
   "outputs": [],
   "source": []
  }
 ],
 "metadata": {
  "kernelspec": {
   "display_name": "Python 3",
   "language": "python",
   "name": "python3"
  },
  "language_info": {
   "codemirror_mode": {
    "name": "ipython",
    "version": 3
   },
   "file_extension": ".py",
   "mimetype": "text/x-python",
   "name": "python",
   "nbconvert_exporter": "python",
   "pygments_lexer": "ipython3",
   "version": "3.8.5"
  }
 },
 "nbformat": 4,
 "nbformat_minor": 4
}
